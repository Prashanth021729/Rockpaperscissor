{
 "cells": [
  {
   "cell_type": "code",
   "execution_count": null,
   "id": "d3996c0d",
   "metadata": {},
   "outputs": [
    {
     "name": "stdout",
     "output_type": "stream",
     "text": [
      "Lets play (rock, paper, scissor): Paper\n",
      "COMPUTER: rock\n",
      "PLAYER: paper\n",
      "YAYY You Won\n"
     ]
    }
   ],
   "source": [
    "import random\n",
    "\n",
    "while True:\n",
    "    \n",
    "    choices = [\"rock\", \"paper\",\"scissor\"]\n",
    "    \n",
    "    computer = random.choice(choices)\n",
    "    user = None\n",
    "\n",
    "    while user not in choices:\n",
    "        \n",
    "        user = input(\"Lets play (rock, paper, scissor): \").lower()\n",
    "    \n",
    "    if user == computer :\n",
    "        print(f\"COMPUTER: {computer}\")\n",
    "        print(f\"PLAYER: {user}\")\n",
    "        print(\"it's a tie!\")\n",
    "    \n",
    "    elif user == \"rock\":\n",
    "        if computer == \"paper\":\n",
    "            print(f\"COMPUTER: {computer}\")\n",
    "            print(f\"PLAYER: {user}\")\n",
    "            print(\"Yayyy you won\")\n",
    "        if computer == \"scissor\":\n",
    "            print(f\"COMPUTER: {computer}\")\n",
    "            print(f\"PLAYER: {user}\")\n",
    "            print(\"You lost\")\n",
    "    elif user == \"paper\":\n",
    "        if computer == \"scissor\":\n",
    "            print(f\"COMPUTER: {computer}\")\n",
    "            print(f\"PLAYER: {user}\")\n",
    "            print(\"Computer Wins\")\n",
    "        if computer == \"rock\":\n",
    "            print(f\"COMPUTER: {computer}\")\n",
    "            print(f\"PLAYER: {user}\")\n",
    "            print(\"YAYY You Won\")\n",
    "    elif user == \"scissor\":\n",
    "        if computer == \"paper\":\n",
    "            print(f\"COMPUTER: {computer}\")\n",
    "            print(f\"PLAYER: {user}\")\n",
    "            print(\"YAYY Won\")\n",
    "        if computer == \"rock\":\n",
    "            print(f\"COMPUTER: {computer}\")\n",
    "            print(f\"PLAYER: {user}\")\n",
    "            print(\"Computer Won\")\n",
    "    play_again = input(\"Do you want to play again (Yes/No): \").lower()\n",
    "    if play_again != \"yes\":\n",
    "        break\n",
    "print(\"Bye!!\")\n",
    "    \n",
    "    \n",
    "\n"
   ]
  },
  {
   "cell_type": "code",
   "execution_count": null,
   "id": "e339a982",
   "metadata": {},
   "outputs": [],
   "source": []
  }
 ],
 "metadata": {
  "kernelspec": {
   "display_name": "Python 3 (ipykernel)",
   "language": "python",
   "name": "python3"
  },
  "language_info": {
   "codemirror_mode": {
    "name": "ipython",
    "version": 3
   },
   "file_extension": ".py",
   "mimetype": "text/x-python",
   "name": "python",
   "nbconvert_exporter": "python",
   "pygments_lexer": "ipython3",
   "version": "3.9.12"
  }
 },
 "nbformat": 4,
 "nbformat_minor": 5
}
